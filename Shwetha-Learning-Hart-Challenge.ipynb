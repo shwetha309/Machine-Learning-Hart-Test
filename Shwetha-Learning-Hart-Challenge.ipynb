{
 "cells": [
  {
   "cell_type": "markdown",
   "metadata": {},
   "source": [
    "## Data Scientist Position Challenge"
   ]
  },
  {
   "cell_type": "markdown",
   "metadata": {},
   "source": [
    "** Thank you for taking the time to complete this challenge. As a data scientist for Hart you will be responsible for sourcing data from many sources, data wrangling, and analysis. This is an opportunity to showcase your skills.**\n",
    "\n",
    "**Good luck! **"
   ]
  },
  {
   "cell_type": "markdown",
   "metadata": {},
   "source": [
    "## Instructions"
   ]
  },
  {
   "cell_type": "markdown",
   "metadata": {},
   "source": [
    "1- Download this notebook\n",
    "\n",
    "2- Make sure you have numpy, pandas, matplotlib and sklearn installed\n",
    "\n",
    "3- Read the instructions for each section and write code to accomplish each task within the designated area\n",
    "\n",
    "4- Save your final notebook (.ipynb) and email it to amir.ziai@hart.com"
   ]
  },
  {
   "cell_type": "code",
   "execution_count": 11,
   "metadata": {
    "collapsed": true
   },
   "outputs": [],
   "source": [
    "%matplotlib inline\n",
    "import numpy as np\n",
    "import pandas as pd"
   ]
  },
  {
   "cell_type": "markdown",
   "metadata": {},
   "source": [
    "## Part 1- Read a CSV file into memory"
   ]
  },
  {
   "cell_type": "markdown",
   "metadata": {},
   "source": [
    "#### Variables needed for this part (do not delete)"
   ]
  },
  {
   "cell_type": "code",
   "execution_count": 12,
   "metadata": {
    "collapsed": true
   },
   "outputs": [],
   "source": [
    "url = 'https://archive.ics.uci.edu/ml/machine-learning-databases/adult/adult.data'\n",
    "headers = 'age,workclass,fnlwgt,education,education-num,marital-status,occupation,relationship,race,sex,capital-gain,capital-loss,hours-per-week,native-county,income'"
   ]
  },
  {
   "cell_type": "markdown",
   "metadata": {},
   "source": [
    "#### Instructions\n",
    "Using the pandas library (if you are using Python) read the above url (url variable) into a dataframe. Make sure that you (1) skip the first 10 rows and (2) use the headers variables defined above as the column header.\n",
    "\n",
    "Note that adult.data is commad separated and has no header.\n",
    "\n",
    "**Output: print the dimensions (shape) of the dataframe as well as the top 5 rows**"
   ]
  },
  {
   "cell_type": "code",
   "execution_count": 13,
   "metadata": {
    "collapsed": false
   },
   "outputs": [
    {
     "name": "stdout",
     "output_type": "stream",
     "text": [
      "(32551, 15)\n",
      "   age   workclass  fnlwgt      education  educationnum       marital-status  \\\n",
      "0   37     Private  280464   Some-college            10   Married-civ-spouse   \n",
      "1   30   State-gov  141297      Bachelors            13   Married-civ-spouse   \n",
      "2   23     Private  122272      Bachelors            13        Never-married   \n",
      "3   32     Private  205019     Assoc-acdm            12        Never-married   \n",
      "4   40     Private  121772      Assoc-voc            11   Married-civ-spouse   \n",
      "\n",
      "         occupation    relationship                 race      sex  \\\n",
      "0   Exec-managerial         Husband                Black     Male   \n",
      "1    Prof-specialty         Husband   Asian-Pac-Islander     Male   \n",
      "2      Adm-clerical       Own-child                White   Female   \n",
      "3             Sales   Not-in-family                Black     Male   \n",
      "4      Craft-repair         Husband   Asian-Pac-Islander     Male   \n",
      "\n",
      "   capital-gain  capital-loss  hours-per-week   native-county  income  \n",
      "0             0             0              80   United-States    >50K  \n",
      "1             0             0              40           India    >50K  \n",
      "2             0             0              30   United-States   <=50K  \n",
      "3             0             0              50   United-States   <=50K  \n",
      "4             0             0              40               ?    >50K  \n"
     ]
    }
   ],
   "source": [
    "# START CODE\n",
    "import pandas\n",
    "from pandas import DataFrame\n",
    "import requests \n",
    "import sys\n",
    "if sys.version_info[0] < 3:\n",
    "    from StringIO import StringIO\n",
    "else:\n",
    "    from io import StringIO\n",
    "import matplotlib.pyplot as plt\n",
    "import plotly.plotly as py\n",
    "import plotly.graph_objs as go\n",
    "    \n",
    "#url=\"https://archive.ics.uci.edu/ml/machine-learning-databases/adult/adult.data\"\n",
    "data=requests.get(url).content\n",
    "#print (data.text[0:5])\n",
    "df=pandas.read_csv(StringIO(data.decode('utf-8')),sep=\",\",header=None,skiprows=10)\n",
    "#df_with_header=pandas.DataFrame([df],columns=[\"age\",\"workclass\",\"fnlwgt\",\"education\",\"education-num\",\"marital-status\",\"occupation\",\"relationship\",\"race\",\"sex\",\"capital-gain\",\"capital-loss\",\"hours-per-week\",\"native-county\",\"income\"])\n",
    "df.columns=[\"age\",\"workclass\",\"fnlwgt\",\"education\",\"educationnum\",\"marital-status\",\"occupation\",\"relationship\",\"race\",\"sex\",\"capital-gain\",\"capital-loss\",\"hours-per-week\",\"native-county\",\"income\"]\n",
    "print (df.shape)\n",
    "print (df.head(5))\n",
    "# END CODE"
   ]
  },
  {
   "cell_type": "markdown",
   "metadata": {},
   "source": [
    "## 2- Filtering"
   ]
  },
  {
   "cell_type": "markdown",
   "metadata": {},
   "source": [
    "#### Instructions\n",
    "\n",
    "1- Create a new dataframe that excludes the \" Preschool\" variable (do not mutate the first dataframe). Call this dataframe df1.\n",
    "\n",
    "2- Create a new dataframe by filtering rows that fall within 1st and 3rd quartile of \"education-num\" (hint: describe gives you summary statistics for a variable). Call this dataframe df2.\n",
    "\n",
    "**Output: Print the percentage descrease in the number of rows after the filtering.**"
   ]
  },
  {
   "cell_type": "code",
   "execution_count": 14,
   "metadata": {
    "collapsed": true
   },
   "outputs": [],
   "source": [
    "education_exclude = [' Preschool']"
   ]
  },
  {
   "cell_type": "code",
   "execution_count": 15,
   "metadata": {
    "collapsed": false
   },
   "outputs": [
    {
     "name": "stdout",
     "output_type": "stream",
     "text": [
      "37\n"
     ]
    }
   ],
   "source": [
    "# START CODE\n",
    "df1=df[df.education!=\"Preschool\"]\n",
    "#print (df1.describe())\n",
    "#df2=df1.educationnum.quantile([0.25,0.75])\n",
    "#print (df2)\n",
    "df2=df1[(df1.educationnum >= df1.educationnum.quantile(0.25)) & (df1.educationnum <= df1.educationnum.quantile(0.75))]\n",
    "print ((len(df1.index)-len(df2.index))*100/len(df1.index))\n",
    "# END CODE"
   ]
  },
  {
   "cell_type": "markdown",
   "metadata": {},
   "source": [
    "## 3- Grouping and visualization"
   ]
  },
  {
   "cell_type": "markdown",
   "metadata": {},
   "source": [
    "#### Instructions\n",
    "\n",
    "1- Group the rows in df2 by \"occupation\" and aggregate the age within each group.\n",
    "\n",
    "**Output: display a horizontal bar chart of average age by occupation**"
   ]
  },
  {
   "cell_type": "code",
   "execution_count": 16,
   "metadata": {
    "collapsed": false
   },
   "outputs": [
    {
     "data": {
      "text/plain": [
       "<matplotlib.axes._subplots.AxesSubplot at 0xab79ffac>"
      ]
     },
     "execution_count": 16,
     "metadata": {},
     "output_type": "execute_result"
    },
    {
     "data": {
      "image/png": "[encoded data removed]",
      "text/plain": [
       "<matplotlib.figure.Figure at 0xb295e88c>"
      ]
     },
     "metadata": {},
     "output_type": "display_data"
    }
   ],
   "source": [
    "# START CODE\n",
    "df2_groupby=(df['age'].groupby(df['occupation']))\n",
    "df2_groupby.columns=[\"occupation\",\"age\"]\n",
    "#print (df2_groupby.mean())\n",
    "\n",
    "df3=df2_groupby.mean()\n",
    "\n",
    "#print (type(df3))\n",
    "\n",
    "plt.figure()\n",
    "df3.plot(kind='barh')\n",
    "# END CODE"
   ]
  },
  {
   "cell_type": "markdown",
   "metadata": {},
   "source": [
    "## 4- Naiive Bayes Classification (Extra Credit)"
   ]
  },
  {
   "cell_type": "markdown",
   "metadata": {},
   "source": [
    "** Attempt this section only if you have completed other sections and have extra time **"
   ]
  },
  {
   "cell_type": "code",
   "execution_count": 17,
   "metadata": {
    "collapsed": false
   },
   "outputs": [],
   "source": [
    "from sklearn.naive_bayes import MultinomialNB\n",
    "from sklearn.feature_extraction.text import CountVectorizer\n",
    "\n",
    "url_train = 'https://s3-us-west-1.amazonaws.com/amirziai-accessfuel/nb_train.csv'\n",
    "url_test = 'https://s3-us-west-1.amazonaws.com/amirziai-accessfuel/nb_test.csv'"
   ]
  },
  {
   "cell_type": "markdown",
   "metadata": {},
   "source": [
    "#### Instructions\n",
    "\n",
    "Train a Naiive Bayes classifier using the dataset in \"url_train\". Each row in the dataset consists of a \"Sentence\" and a \"Tag\" which encodes the sentiment. Your classifier should use the words in a sentence as features for that row. For this part simply count the number of occurences of each word in the dictionary (you can accomplish this using CountVectorizer from the scikit learn library if you are using Python).\n",
    "For more information refer to:\n",
    "http://scikit-learn.org/stable/modules/generated/sklearn.naive_bayes.MultinomialNB.html\n",
    "\n",
    "*If you are using pandas empty values are by defaul encoded as NaN. scikit learn does not play well with NaN. Make sure that you handle NaNs before you predict*\n",
    "\n",
    "**Output: Print the predictions of your NB model for the test dataset**"
   ]
  },
  {
   "cell_type": "code",
   "execution_count": 18,
   "metadata": {
    "collapsed": false
   },
   "outputs": [
    {
     "name": "stdout",
     "output_type": "stream",
     "text": [
      "gain software mouse overall version bad => Pos\n",
      "impressed love => Pos\n",
      "virus version terrible => Pos\n",
      "aware love git account improve security => Pos\n",
      "overall useful to terrible => Pos\n",
      "cloud love control terrible => Pos\n",
      "love version privacy overall => Pos\n",
      "keyboard impressed gain => Pos\n",
      "keyboard version git control bad => Pos\n",
      "mouse privacy version keyboard => Pos\n",
      "useful love aware privacy improve => Pos\n",
      "the virus love bad gain mouse => Pos\n",
      "impressed => Pos\n",
      "privacy account the to => Pos\n",
      "love privacy sky quality => Pos\n",
      "bad useful => Pos\n",
      "abuse love => Pos\n",
      "account gain version keyboard terrible => Pos\n",
      "cloud love terrible => Pos\n",
      "control sky impressed improve bad mouse => Pos\n",
      "cloud mouse abuse software => Neg\n",
      "aware bad control version privacy => Pos\n",
      "improve bad useful git privacy => Pos\n",
      "control account => Pos\n"
     ]
    }
   ],
   "source": [
    "# START CODE\n",
    "\n",
    "# Naive Bayes\n",
    "from sklearn.feature_extraction.text import CountVectorizer as cv\n",
    "from sklearn.feature_extraction.text import TfidfTransformer\n",
    "from sklearn.naive_bayes import MultinomialNB\n",
    "from sklearn import cross_validation\n",
    "from sklearn.metrics import classification_report\n",
    "import numpy as np\n",
    "import requests\n",
    "import csv\n",
    "import sys\n",
    "from sklearn.metrics import accuracy_score\n",
    "import pandas \n",
    "if sys.version_info[0] < 3:\n",
    "    from StringIO import StringIO\n",
    "else:\n",
    "    from io import StringIO\n",
    "import re\n",
    "from sklearn.metrics import classification_report\n",
    "\n",
    "url_train = 'https://s3-us-west-1.amazonaws.com/amirziai-accessfuel/nb_train.csv'\n",
    "url_test = 'https://s3-us-west-1.amazonaws.com/amirziai-accessfuel/nb_test.csv'\n",
    "\n",
    "data=requests.get(url_train).content\n",
    "#print (data.text[0:5])\n",
    "df=pandas.read_csv(StringIO(data.decode('utf-8')),sep=\",\",skip_blank_lines=True,header=0)\n",
    "df3=df.dropna()\n",
    "#print (df.head(5))\n",
    "\n",
    "data2=requests.get(url_test).content\n",
    "#print (data.text[0:5])\n",
    "df2=pandas.read_table(StringIO(data2.decode('utf-8')),header=0,skip_blank_lines=True)\n",
    "df4=df2.dropna()\n",
    "#print (df4)\n",
    "\n",
    "vectorizer=cv(stop_words='english')\n",
    "f_corpus=vectorizer.fit_transform(df3.Sentence.tolist()+df4.Sentence.tolist())\n",
    "f_array=f_corpus.toarray()\n",
    "train_data,test_data,train_tag,test_tag=cross_validation.train_test_split(\n",
    "        f_array[0:len(df3)], \n",
    "        df3.Tag,\n",
    "        train_size=0.85, \n",
    "        random_state=43)\n",
    "classify=MultinomialNB().fit(f_array[0:len(df3)],df3.Tag)\n",
    "predict=classify.predict(f_array[len(df3):])\n",
    "#print(classification_report(test_tag, predict))\n",
    "for sentence,tag in zip(df4.Sentence,predict):\n",
    "\tprint (sentence +\" => \"+ tag)\n",
    "# END CODE"
   ]
  }
 ],
 "metadata": {
  "kernelspec": {
   "display_name": "Python 2",
   "language": "python",
   "name": "python2"
  },
  "language_info": {
   "codemirror_mode": {
    "name": "ipython",
    "version": 2
   },
   "file_extension": ".py",
   "mimetype": "text/x-python",
   "name": "python",
   "nbconvert_exporter": "python",
   "pygments_lexer": "ipython2",
   "version": "2.7.9"
  }
 },
 "nbformat": 4,
 "nbformat_minor": 0
}
